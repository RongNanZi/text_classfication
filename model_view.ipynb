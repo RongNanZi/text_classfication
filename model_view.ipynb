{
 "cells": [
  {
   "cell_type": "code",
   "execution_count": 2,
   "metadata": {},
   "outputs": [],
   "source": [
    "from sklearn.model_selection import GridSearchCV\n",
    "import pickle as p\n",
    "model_file = './test/grid.result'\n",
    "with open(model_file, 'rb') as f:\n",
    "    g_result = p.load(f)"
   ]
  },
  {
   "cell_type": "code",
   "execution_count": 3,
   "metadata": {},
   "outputs": [
    {
     "name": "stderr",
     "output_type": "stream",
     "text": [
      "/home/shiqundong/miniconda3/lib/python3.6/site-packages/sklearn/utils/deprecation.py:122: FutureWarning: You are accessing a training score ('split0_train_score'), which will not be available by default any more in 0.21. If you need training scores, please set return_train_score=True\n",
      "  warnings.warn(*warn_args, **warn_kwargs)\n",
      "/home/shiqundong/miniconda3/lib/python3.6/site-packages/sklearn/utils/deprecation.py:122: FutureWarning: You are accessing a training score ('split1_train_score'), which will not be available by default any more in 0.21. If you need training scores, please set return_train_score=True\n",
      "  warnings.warn(*warn_args, **warn_kwargs)\n",
      "/home/shiqundong/miniconda3/lib/python3.6/site-packages/sklearn/utils/deprecation.py:122: FutureWarning: You are accessing a training score ('split2_train_score'), which will not be available by default any more in 0.21. If you need training scores, please set return_train_score=True\n",
      "  warnings.warn(*warn_args, **warn_kwargs)\n",
      "/home/shiqundong/miniconda3/lib/python3.6/site-packages/sklearn/utils/deprecation.py:122: FutureWarning: You are accessing a training score ('split3_train_score'), which will not be available by default any more in 0.21. If you need training scores, please set return_train_score=True\n",
      "  warnings.warn(*warn_args, **warn_kwargs)\n",
      "/home/shiqundong/miniconda3/lib/python3.6/site-packages/sklearn/utils/deprecation.py:122: FutureWarning: You are accessing a training score ('split4_train_score'), which will not be available by default any more in 0.21. If you need training scores, please set return_train_score=True\n",
      "  warnings.warn(*warn_args, **warn_kwargs)\n",
      "/home/shiqundong/miniconda3/lib/python3.6/site-packages/sklearn/utils/deprecation.py:122: FutureWarning: You are accessing a training score ('mean_train_score'), which will not be available by default any more in 0.21. If you need training scores, please set return_train_score=True\n",
      "  warnings.warn(*warn_args, **warn_kwargs)\n",
      "/home/shiqundong/miniconda3/lib/python3.6/site-packages/sklearn/utils/deprecation.py:122: FutureWarning: You are accessing a training score ('std_train_score'), which will not be available by default any more in 0.21. If you need training scores, please set return_train_score=True\n",
      "  warnings.warn(*warn_args, **warn_kwargs)\n"
     ]
    },
    {
     "data": {
      "text/plain": [
       "{'mean_fit_time': array([65.32556057, 54.7461556 , 53.9248847 , 55.58176198, 61.2342979 ,\n",
       "        65.8064672 ]),\n",
       " 'std_fit_time': array([0.96669275, 1.064417  , 2.46884324, 0.41580721, 1.53597073,\n",
       "        1.52545483]),\n",
       " 'mean_score_time': array([7.81520047, 8.04854746, 7.93403325, 7.79658208, 7.64454861,\n",
       "        7.75454664]),\n",
       " 'std_score_time': array([0.24843844, 0.12831155, 0.30351153, 0.49325409, 0.72868878,\n",
       "        0.68026406]),\n",
       " 'param_kernel': masked_array(data=['linear', 'rbf', --, --, --, --],\n",
       "              mask=[False, False,  True,  True,  True,  True],\n",
       "        fill_value='?',\n",
       "             dtype=object),\n",
       " 'param_C': masked_array(data=[--, --, 0.01, 10.0, --, --],\n",
       "              mask=[ True,  True, False, False,  True,  True],\n",
       "        fill_value='?',\n",
       "             dtype=object),\n",
       " 'param_gamma': masked_array(data=[--, --, --, --, 0.001, 100.0],\n",
       "              mask=[ True,  True,  True,  True, False, False],\n",
       "        fill_value='?',\n",
       "             dtype=object),\n",
       " 'params': [{'kernel': 'linear'},\n",
       "  {'kernel': 'rbf'},\n",
       "  {'C': 0.01},\n",
       "  {'C': 10.0},\n",
       "  {'gamma': 0.001},\n",
       "  {'gamma': 100.0}],\n",
       " 'split0_test_score': array([0.6875, 0.14  , 0.14  , 0.14  , 0.14  , 0.0825]),\n",
       " 'split1_test_score': array([0.655 , 0.1475, 0.1475, 0.1475, 0.1475, 0.0825]),\n",
       " 'split2_test_score': array([0.65  , 0.0775, 0.0775, 0.0775, 0.0775, 0.0775]),\n",
       " 'split3_test_score': array([0.655 , 0.15  , 0.15  , 0.15  , 0.15  , 0.0825]),\n",
       " 'split4_test_score': array([0.6475, 0.1425, 0.1425, 0.1425, 0.1425, 0.08  ]),\n",
       " 'mean_test_score': array([0.659 , 0.1315, 0.1315, 0.1315, 0.1315, 0.081 ]),\n",
       " 'std_test_score': array([0.01454304, 0.0272305 , 0.0272305 , 0.0272305 , 0.0272305 ,\n",
       "        0.002     ]),\n",
       " 'rank_test_score': array([1, 2, 2, 2, 2, 6], dtype=int32),\n",
       " 'split0_train_score': array([0.99875 , 0.156875, 0.156875, 0.156875, 0.156875, 1.      ]),\n",
       " 'split1_train_score': array([0.99875, 0.15625, 0.15625, 0.15625, 0.15625, 1.     ]),\n",
       " 'split2_train_score': array([0.9975  , 0.079375, 0.079375, 0.079375, 0.079375, 1.      ]),\n",
       " 'split3_train_score': array([0.998125, 0.15625 , 0.15625 , 0.15625 , 0.15625 , 1.      ]),\n",
       " 'split4_train_score': array([0.99875, 0.15625, 0.15625, 0.15625, 0.15625, 1.     ]),\n",
       " 'mean_train_score': array([0.998375, 0.141   , 0.141   , 0.141   , 0.141   , 1.      ]),\n",
       " 'std_train_score': array([0.0005    , 0.03081345, 0.03081345, 0.03081345, 0.03081345,\n",
       "        0.        ])}"
      ]
     },
     "execution_count": 3,
     "metadata": {},
     "output_type": "execute_result"
    }
   ],
   "source": [
    "g_result.cv_results_"
   ]
  },
  {
   "cell_type": "code",
   "execution_count": 5,
   "metadata": {},
   "outputs": [
    {
     "data": {
      "text/plain": [
       "0.659"
      ]
     },
     "execution_count": 5,
     "metadata": {},
     "output_type": "execute_result"
    }
   ],
   "source": [
    "g_result.best_score_"
   ]
  },
  {
   "cell_type": "code",
   "execution_count": 6,
   "metadata": {},
   "outputs": [
    {
     "data": {
      "text/plain": [
       "SVC(C=1.0, cache_size=200, class_weight=None, coef0=0.0,\n",
       "  decision_function_shape='ovr', degree=3, gamma='auto', kernel='linear',\n",
       "  max_iter=-1, probability=False, random_state=None, shrinking=True,\n",
       "  tol=0.001, verbose=False)"
      ]
     },
     "execution_count": 6,
     "metadata": {},
     "output_type": "execute_result"
    }
   ],
   "source": [
    "g_result.best_estimator_"
   ]
  },
  {
   "cell_type": "code",
   "execution_count": null,
   "metadata": {},
   "outputs": [],
   "source": []
  }
 ],
 "metadata": {
  "kernelspec": {
   "display_name": "Python 3",
   "language": "python",
   "name": "python3"
  },
  "language_info": {
   "codemirror_mode": {
    "name": "ipython",
    "version": 3
   },
   "file_extension": ".py",
   "mimetype": "text/x-python",
   "name": "python",
   "nbconvert_exporter": "python",
   "pygments_lexer": "ipython3",
   "version": "3.6.5"
  }
 },
 "nbformat": 4,
 "nbformat_minor": 2
}

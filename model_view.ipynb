{
 "cells": [
  {
   "cell_type": "code",
   "execution_count": 8,
   "metadata": {},
   "outputs": [],
   "source": [
    "from sklearn.model_selection import GridSearchCV\n",
    "import pickle as p\n",
    "model_file = './test/grid.result'\n",
    "with open(model_file, 'rb') as f:\n",
    "    g_result = p.load(f)"
   ]
  },
  {
   "cell_type": "code",
   "execution_count": 3,
   "metadata": {},
   "outputs": [
    {
     "name": "stderr",
     "output_type": "stream",
     "text": [
      "/home/shiqundong/miniconda3/lib/python3.6/site-packages/sklearn/utils/deprecation.py:122: FutureWarning: You are accessing a training score ('split0_train_score'), which will not be available by default any more in 0.21. If you need training scores, please set return_train_score=True\n",
      "  warnings.warn(*warn_args, **warn_kwargs)\n",
      "/home/shiqundong/miniconda3/lib/python3.6/site-packages/sklearn/utils/deprecation.py:122: FutureWarning: You are accessing a training score ('split1_train_score'), which will not be available by default any more in 0.21. If you need training scores, please set return_train_score=True\n",
      "  warnings.warn(*warn_args, **warn_kwargs)\n",
      "/home/shiqundong/miniconda3/lib/python3.6/site-packages/sklearn/utils/deprecation.py:122: FutureWarning: You are accessing a training score ('split2_train_score'), which will not be available by default any more in 0.21. If you need training scores, please set return_train_score=True\n",
      "  warnings.warn(*warn_args, **warn_kwargs)\n",
      "/home/shiqundong/miniconda3/lib/python3.6/site-packages/sklearn/utils/deprecation.py:122: FutureWarning: You are accessing a training score ('split3_train_score'), which will not be available by default any more in 0.21. If you need training scores, please set return_train_score=True\n",
      "  warnings.warn(*warn_args, **warn_kwargs)\n",
      "/home/shiqundong/miniconda3/lib/python3.6/site-packages/sklearn/utils/deprecation.py:122: FutureWarning: You are accessing a training score ('split4_train_score'), which will not be available by default any more in 0.21. If you need training scores, please set return_train_score=True\n",
      "  warnings.warn(*warn_args, **warn_kwargs)\n",
      "/home/shiqundong/miniconda3/lib/python3.6/site-packages/sklearn/utils/deprecation.py:122: FutureWarning: You are accessing a training score ('mean_train_score'), which will not be available by default any more in 0.21. If you need training scores, please set return_train_score=True\n",
      "  warnings.warn(*warn_args, **warn_kwargs)\n",
      "/home/shiqundong/miniconda3/lib/python3.6/site-packages/sklearn/utils/deprecation.py:122: FutureWarning: You are accessing a training score ('std_train_score'), which will not be available by default any more in 0.21. If you need training scores, please set return_train_score=True\n",
      "  warnings.warn(*warn_args, **warn_kwargs)\n"
     ]
    },
    {
     "data": {
      "text/plain": [
       "{'mean_fit_time': array([65.32556057, 54.7461556 , 53.9248847 , 55.58176198, 61.2342979 ,\n",
       "        65.8064672 ]),\n",
       " 'std_fit_time': array([0.96669275, 1.064417  , 2.46884324, 0.41580721, 1.53597073,\n",
       "        1.52545483]),\n",
       " 'mean_score_time': array([7.81520047, 8.04854746, 7.93403325, 7.79658208, 7.64454861,\n",
       "        7.75454664]),\n",
       " 'std_score_time': array([0.24843844, 0.12831155, 0.30351153, 0.49325409, 0.72868878,\n",
       "        0.68026406]),\n",
       " 'param_kernel': masked_array(data=['linear', 'rbf', --, --, --, --],\n",
       "              mask=[False, False,  True,  True,  True,  True],\n",
       "        fill_value='?',\n",
       "             dtype=object),\n",
       " 'param_C': masked_array(data=[--, --, 0.01, 10.0, --, --],\n",
       "              mask=[ True,  True, False, False,  True,  True],\n",
       "        fill_value='?',\n",
       "             dtype=object),\n",
       " 'param_gamma': masked_array(data=[--, --, --, --, 0.001, 100.0],\n",
       "              mask=[ True,  True,  True,  True, False, False],\n",
       "        fill_value='?',\n",
       "             dtype=object),\n",
       " 'params': [{'kernel': 'linear'},\n",
       "  {'kernel': 'rbf'},\n",
       "  {'C': 0.01},\n",
       "  {'C': 10.0},\n",
       "  {'gamma': 0.001},\n",
       "  {'gamma': 100.0}],\n",
       " 'split0_test_score': array([0.6875, 0.14  , 0.14  , 0.14  , 0.14  , 0.0825]),\n",
       " 'split1_test_score': array([0.655 , 0.1475, 0.1475, 0.1475, 0.1475, 0.0825]),\n",
       " 'split2_test_score': array([0.65  , 0.0775, 0.0775, 0.0775, 0.0775, 0.0775]),\n",
       " 'split3_test_score': array([0.655 , 0.15  , 0.15  , 0.15  , 0.15  , 0.0825]),\n",
       " 'split4_test_score': array([0.6475, 0.1425, 0.1425, 0.1425, 0.1425, 0.08  ]),\n",
       " 'mean_test_score': array([0.659 , 0.1315, 0.1315, 0.1315, 0.1315, 0.081 ]),\n",
       " 'std_test_score': array([0.01454304, 0.0272305 , 0.0272305 , 0.0272305 , 0.0272305 ,\n",
       "        0.002     ]),\n",
       " 'rank_test_score': array([1, 2, 2, 2, 2, 6], dtype=int32),\n",
       " 'split0_train_score': array([0.99875 , 0.156875, 0.156875, 0.156875, 0.156875, 1.      ]),\n",
       " 'split1_train_score': array([0.99875, 0.15625, 0.15625, 0.15625, 0.15625, 1.     ]),\n",
       " 'split2_train_score': array([0.9975  , 0.079375, 0.079375, 0.079375, 0.079375, 1.      ]),\n",
       " 'split3_train_score': array([0.998125, 0.15625 , 0.15625 , 0.15625 , 0.15625 , 1.      ]),\n",
       " 'split4_train_score': array([0.99875, 0.15625, 0.15625, 0.15625, 0.15625, 1.     ]),\n",
       " 'mean_train_score': array([0.998375, 0.141   , 0.141   , 0.141   , 0.141   , 1.      ]),\n",
       " 'std_train_score': array([0.0005    , 0.03081345, 0.03081345, 0.03081345, 0.03081345,\n",
       "        0.        ])}"
      ]
     },
     "execution_count": 3,
     "metadata": {},
     "output_type": "execute_result"
    }
   ],
   "source": [
    "g_result.cv_results_"
   ]
  },
  {
   "cell_type": "code",
   "execution_count": 5,
   "metadata": {},
   "outputs": [
    {
     "data": {
      "text/plain": [
       "0.659"
      ]
     },
     "execution_count": 5,
     "metadata": {},
     "output_type": "execute_result"
    }
   ],
   "source": [
    "g_result.best_score_"
   ]
  },
  {
   "cell_type": "code",
   "execution_count": 9,
   "metadata": {},
   "outputs": [],
   "source": [
    "word_model_search_file = './word_grid.result'\n",
    "with open(word_model_search_file, 'rb') as f:\n",
    "    word_result = p.load(f)\n",
    "seg_model_search_file = './seg_grid.result'\n",
    "with open(seg_model_search_file, 'rb') as f:\n",
    "    seg_result = p.load(f)"
   ]
  },
  {
   "cell_type": "code",
   "execution_count": 10,
   "metadata": {},
   "outputs": [
    {
     "name": "stderr",
     "output_type": "stream",
     "text": [
      "/home/shiqundong/miniconda3/lib/python3.6/site-packages/sklearn/utils/deprecation.py:122: FutureWarning: You are accessing a training score ('split0_train_score'), which will not be available by default any more in 0.21. If you need training scores, please set return_train_score=True\n",
      "  warnings.warn(*warn_args, **warn_kwargs)\n",
      "/home/shiqundong/miniconda3/lib/python3.6/site-packages/sklearn/utils/deprecation.py:122: FutureWarning: You are accessing a training score ('split1_train_score'), which will not be available by default any more in 0.21. If you need training scores, please set return_train_score=True\n",
      "  warnings.warn(*warn_args, **warn_kwargs)\n",
      "/home/shiqundong/miniconda3/lib/python3.6/site-packages/sklearn/utils/deprecation.py:122: FutureWarning: You are accessing a training score ('split2_train_score'), which will not be available by default any more in 0.21. If you need training scores, please set return_train_score=True\n",
      "  warnings.warn(*warn_args, **warn_kwargs)\n",
      "/home/shiqundong/miniconda3/lib/python3.6/site-packages/sklearn/utils/deprecation.py:122: FutureWarning: You are accessing a training score ('split3_train_score'), which will not be available by default any more in 0.21. If you need training scores, please set return_train_score=True\n",
      "  warnings.warn(*warn_args, **warn_kwargs)\n",
      "/home/shiqundong/miniconda3/lib/python3.6/site-packages/sklearn/utils/deprecation.py:122: FutureWarning: You are accessing a training score ('split4_train_score'), which will not be available by default any more in 0.21. If you need training scores, please set return_train_score=True\n",
      "  warnings.warn(*warn_args, **warn_kwargs)\n",
      "/home/shiqundong/miniconda3/lib/python3.6/site-packages/sklearn/utils/deprecation.py:122: FutureWarning: You are accessing a training score ('mean_train_score'), which will not be available by default any more in 0.21. If you need training scores, please set return_train_score=True\n",
      "  warnings.warn(*warn_args, **warn_kwargs)\n",
      "/home/shiqundong/miniconda3/lib/python3.6/site-packages/sklearn/utils/deprecation.py:122: FutureWarning: You are accessing a training score ('std_train_score'), which will not be available by default any more in 0.21. If you need training scores, please set return_train_score=True\n",
      "  warnings.warn(*warn_args, **warn_kwargs)\n"
     ]
    },
    {
     "data": {
      "text/plain": [
       "{'mean_fit_time': array([2268.41786337, 1067.71843715,  482.22596855,  805.34093394,\n",
       "        1034.81877975, 1524.38736348, 1287.51798844]),\n",
       " 'std_fit_time': array([ 34.09757895, 106.2425678 ,  23.09513628,  22.39156031,\n",
       "         32.61365094,  33.22248433, 159.16138085]),\n",
       " 'mean_score_time': array([1.351863  , 1.12636108, 1.48634992, 1.44195461, 2.0396625 ,\n",
       "        1.6074419 , 0.98301144]),\n",
       " 'std_score_time': array([0.15359296, 0.21790104, 0.42282864, 0.25211754, 0.46689726,\n",
       "        0.26344665, 0.29229314]),\n",
       " 'param_penalty': masked_array(data=['l1', 'l2', --, --, --, --, --],\n",
       "              mask=[False, False,  True,  True,  True,  True,  True],\n",
       "        fill_value='?',\n",
       "             dtype=object),\n",
       " 'param_C': masked_array(data=[--, --, 0.001, 0.01, 0.1, 1, --],\n",
       "              mask=[ True,  True, False, False, False, False,  True],\n",
       "        fill_value='?',\n",
       "             dtype=object),\n",
       " 'param_class_weight': masked_array(data=[--, --, --, --, --, --, 'balanced'],\n",
       "              mask=[ True,  True,  True,  True,  True,  True, False],\n",
       "        fill_value='?',\n",
       "             dtype=object),\n",
       " 'params': [{'penalty': 'l1'},\n",
       "  {'penalty': 'l2'},\n",
       "  {'C': 0.001},\n",
       "  {'C': 0.01},\n",
       "  {'C': 0.1},\n",
       "  {'C': 1},\n",
       "  {'class_weight': 'balanced'}],\n",
       " 'split0_test_score': array([0.78402425, 0.78964607, 0.57992765, 0.72751271, 0.77972233,\n",
       "        0.78964607, 0.79037935]),\n",
       " 'split1_test_score': array([0.78231326, 0.78866836, 0.5857939 , 0.73010364, 0.78060227,\n",
       "        0.78866836, 0.78891279]),\n",
       " 'split2_test_score': array([0.78446422, 0.79067266, 0.58481619, 0.73298788, 0.78226437,\n",
       "        0.79067266, 0.79077043]),\n",
       " 'split3_test_score': array([0.77830465, 0.78461087, 0.58354517, 0.72761048, 0.7754693 ,\n",
       "        0.78461087, 0.78461087]),\n",
       " 'split4_test_score': array([0.78304654, 0.78725068, 0.58398514, 0.73025029, 0.77752249,\n",
       "        0.78725068, 0.78842393]),\n",
       " 'mean_test_score': array([0.78243058, 0.78816973, 0.58361361, 0.729693  , 0.77911615,\n",
       "        0.78816973, 0.78861948]),\n",
       " 'std_test_score': array([0.00219508, 0.00210727, 0.00199644, 0.00202119, 0.00238019,\n",
       "        0.00210727, 0.0021871 ]),\n",
       " 'rank_test_score': array([4, 2, 7, 6, 5, 2, 1], dtype=int32),\n",
       " 'split0_train_score': array([0.86298139, 0.99096809, 0.5909852 , 0.75616284, 0.87976192,\n",
       "        0.99096809, 0.99029589]),\n",
       " 'split1_train_score': array([0.86315249, 0.99082143, 0.59021523, 0.75599174, 0.88082522,\n",
       "        0.99082143, 0.99028367]),\n",
       " 'split2_train_score': array([0.86453355, 0.99094365, 0.58938414, 0.75508732, 0.87961526,\n",
       "        0.99094365, 0.99032033]),\n",
       " 'split3_train_score': array([0.86350692, 0.99117586, 0.59038633, 0.75715281, 0.88050745,\n",
       "        0.99117586, 0.99047922]),\n",
       " 'split4_train_score': array([0.86339693, 0.99100475, 0.59030078, 0.75591841, 0.88028746,\n",
       "        0.99100475, 0.99029589]),\n",
       " 'mean_train_score': array([0.86351426, 0.99098276, 0.59025434, 0.75606262, 0.88019946,\n",
       "        0.99098276, 0.990335  ]),\n",
       " 'std_train_score': array([5.41777437e-04, 1.14494210e-04, 5.12348637e-04, 6.59633157e-04,\n",
       "        4.53189928e-04, 1.14494210e-04, 7.30859627e-05])}"
      ]
     },
     "execution_count": 10,
     "metadata": {},
     "output_type": "execute_result"
    }
   ],
   "source": [
    "word_result.cv_results_"
   ]
  },
  {
   "cell_type": "code",
   "execution_count": 11,
   "metadata": {},
   "outputs": [
    {
     "name": "stderr",
     "output_type": "stream",
     "text": [
      "/home/shiqundong/miniconda3/lib/python3.6/site-packages/sklearn/utils/deprecation.py:122: FutureWarning: You are accessing a training score ('split0_train_score'), which will not be available by default any more in 0.21. If you need training scores, please set return_train_score=True\n",
      "  warnings.warn(*warn_args, **warn_kwargs)\n",
      "/home/shiqundong/miniconda3/lib/python3.6/site-packages/sklearn/utils/deprecation.py:122: FutureWarning: You are accessing a training score ('split1_train_score'), which will not be available by default any more in 0.21. If you need training scores, please set return_train_score=True\n",
      "  warnings.warn(*warn_args, **warn_kwargs)\n",
      "/home/shiqundong/miniconda3/lib/python3.6/site-packages/sklearn/utils/deprecation.py:122: FutureWarning: You are accessing a training score ('split2_train_score'), which will not be available by default any more in 0.21. If you need training scores, please set return_train_score=True\n",
      "  warnings.warn(*warn_args, **warn_kwargs)\n",
      "/home/shiqundong/miniconda3/lib/python3.6/site-packages/sklearn/utils/deprecation.py:122: FutureWarning: You are accessing a training score ('split3_train_score'), which will not be available by default any more in 0.21. If you need training scores, please set return_train_score=True\n",
      "  warnings.warn(*warn_args, **warn_kwargs)\n",
      "/home/shiqundong/miniconda3/lib/python3.6/site-packages/sklearn/utils/deprecation.py:122: FutureWarning: You are accessing a training score ('split4_train_score'), which will not be available by default any more in 0.21. If you need training scores, please set return_train_score=True\n",
      "  warnings.warn(*warn_args, **warn_kwargs)\n",
      "/home/shiqundong/miniconda3/lib/python3.6/site-packages/sklearn/utils/deprecation.py:122: FutureWarning: You are accessing a training score ('mean_train_score'), which will not be available by default any more in 0.21. If you need training scores, please set return_train_score=True\n",
      "  warnings.warn(*warn_args, **warn_kwargs)\n",
      "/home/shiqundong/miniconda3/lib/python3.6/site-packages/sklearn/utils/deprecation.py:122: FutureWarning: You are accessing a training score ('std_train_score'), which will not be available by default any more in 0.21. If you need training scores, please set return_train_score=True\n",
      "  warnings.warn(*warn_args, **warn_kwargs)\n"
     ]
    },
    {
     "data": {
      "text/plain": [
       "{'mean_fit_time': array([1150.46300721, 1000.74345455,  407.71654921,  761.84809103,\n",
       "         983.94313879, 1431.41996455, 1183.79722815]),\n",
       " 'std_fit_time': array([ 27.28236475, 116.19778821,  38.69820648,  33.63645848,\n",
       "         57.11480268,  49.33157504, 164.73462383]),\n",
       " 'mean_score_time': array([1.27382989, 1.10329094, 1.5713479 , 1.41543212, 1.76842685,\n",
       "        1.51783066, 0.82044497]),\n",
       " 'std_score_time': array([0.15944817, 0.17689881, 0.29268691, 0.09350787, 0.48414008,\n",
       "        0.35025719, 0.21205782]),\n",
       " 'param_penalty': masked_array(data=['l1', 'l2', --, --, --, --, --],\n",
       "              mask=[False, False,  True,  True,  True,  True,  True],\n",
       "        fill_value='?',\n",
       "             dtype=object),\n",
       " 'param_C': masked_array(data=[--, --, 0.001, 0.01, 0.1, 1, --],\n",
       "              mask=[ True,  True, False, False, False, False,  True],\n",
       "        fill_value='?',\n",
       "             dtype=object),\n",
       " 'param_class_weight': masked_array(data=[--, --, --, --, --, --, 'balanced'],\n",
       "              mask=[ True,  True,  True,  True,  True,  True, False],\n",
       "        fill_value='?',\n",
       "             dtype=object),\n",
       " 'params': [{'penalty': 'l1'},\n",
       "  {'penalty': 'l2'},\n",
       "  {'C': 0.001},\n",
       "  {'C': 0.01},\n",
       "  {'C': 0.1},\n",
       "  {'C': 1},\n",
       "  {'class_weight': 'balanced'}],\n",
       " 'split0_test_score': array([0.77986899, 0.79018381, 0.5254693 , 0.7151447 , 0.77810911,\n",
       "        0.79018381, 0.79042824]),\n",
       " 'split1_test_score': array([0.77967345, 0.792237  , 0.52991787, 0.7174912 , 0.7808467 ,\n",
       "        0.792237  , 0.7908682 ]),\n",
       " 'split2_test_score': array([0.78187329, 0.79409464, 0.52742472, 0.71998436, 0.78294877,\n",
       "        0.79409464, 0.79487681]),\n",
       " 'split3_test_score': array([0.77869574, 0.7895483 , 0.52923348, 0.7158291 , 0.77688698,\n",
       "        0.7895483 , 0.79013492]),\n",
       " 'split4_test_score': array([0.78138443, 0.78993938, 0.52908682, 0.71695346, 0.78011341,\n",
       "        0.78993938, 0.78842393]),\n",
       " 'mean_test_score': array([0.78029918, 0.79120063, 0.52822644, 0.71708056, 0.77978099,\n",
       "        0.79120063, 0.79094642]),\n",
       " 'std_test_score': array([0.00116647, 0.00172071, 0.00160374, 0.00166916, 0.00211903,\n",
       "        0.00172071, 0.00213279]),\n",
       " 'rank_test_score': array([4, 1, 7, 6, 5, 1, 3], dtype=int32),\n",
       " 'split0_train_score': array([0.8541328 , 0.99190917, 0.53893255, 0.75457401, 0.90102785,\n",
       "        0.99190917, 0.99121252]),\n",
       " 'split1_train_score': array([0.85402281, 0.99171362, 0.53777148, 0.75467178, 0.90134562,\n",
       "        0.99171362, 0.9912003 ]),\n",
       " 'split2_train_score': array([0.85425502, 0.99167695, 0.53848034, 0.75450068, 0.90112563,\n",
       "        0.99167695, 0.99104142]),\n",
       " 'split3_train_score': array([0.85431613, 0.99204361, 0.53797925, 0.75495288, 0.90212782,\n",
       "        0.99204361, 0.99121252]),\n",
       " 'split4_train_score': array([0.85408391, 0.99171362, 0.53827257, 0.75538065, 0.90193227,\n",
       "        0.99171362, 0.9910292 ]),\n",
       " 'mean_train_score': array([0.85416213, 0.99181139, 0.53828724, 0.754816  , 0.90151184,\n",
       "        0.99181139, 0.99113919]),\n",
       " 'std_train_score': array([1.08381952e-04, 1.41899271e-04, 4.03682229e-04, 3.21356687e-04,\n",
       "        4.39821857e-04, 1.41899271e-04, 8.50272039e-05])}"
      ]
     },
     "execution_count": 11,
     "metadata": {},
     "output_type": "execute_result"
    }
   ],
   "source": [
    "seg_result.cv_results_"
   ]
  },
  {
   "cell_type": "code",
   "execution_count": 14,
   "metadata": {},
   "outputs": [
    {
     "name": "stdout",
     "output_type": "stream",
     "text": [
      "the word-level best score is 78.8619475948377 and the best param is LinearSVC(C=1.0, class_weight='balanced', dual=False, fit_intercept=True,\n",
      "     intercept_scaling=1, loss='squared_hinge', max_iter=1000,\n",
      "     multi_class='ovr', penalty='l2', random_state=None, tol=0.0001,\n",
      "     verbose=0)\n",
      " the token-level best score is 79.12006257332813 and the best param is LinearSVC(C=1.0, class_weight=None, dual=False, fit_intercept=True,\n",
      "     intercept_scaling=1, loss='squared_hinge', max_iter=1000,\n",
      "     multi_class='ovr', penalty='l2', random_state=None, tol=0.0001,\n",
      "     verbose=0)\n"
     ]
    }
   ],
   "source": [
    "print(\"the word-level best score is {} and the best param is {}\\n \\\n",
    "the token-level best score is {} and the best param is {}\".format(word_result.best_score_*100,\n",
    "                                                                  word_result.best_estimator_,\n",
    "                                                                  seg_result.best_score_*100, \n",
    "                                                                  seg_result.best_estimator_))"
   ]
  },
  {
   "cell_type": "code",
   "execution_count": 17,
   "metadata": {},
   "outputs": [
    {
     "ename": "ValueError",
     "evalue": "X has 2831896 features per sample; expecting 2820641",
     "output_type": "error",
     "traceback": [
      "\u001b[0;31m---------------------------------------------------------------------------\u001b[0m",
      "\u001b[0;31mValueError\u001b[0m                                Traceback (most recent call last)",
      "\u001b[0;32m<ipython-input-17-6f10f51286b5>\u001b[0m in \u001b[0;36m<module>\u001b[0;34m()\u001b[0m\n\u001b[1;32m      5\u001b[0m \u001b[0mvect\u001b[0m \u001b[0;34m=\u001b[0m \u001b[0mTfidfVectorizer\u001b[0m\u001b[0;34m(\u001b[0m\u001b[0mngram_range\u001b[0m\u001b[0;34m=\u001b[0m\u001b[0;34m(\u001b[0m\u001b[0;36m1\u001b[0m\u001b[0;34m,\u001b[0m\u001b[0;36m2\u001b[0m\u001b[0;34m)\u001b[0m\u001b[0;34m,\u001b[0m \u001b[0mmax_df\u001b[0m\u001b[0;34m=\u001b[0m\u001b[0;36m0.9\u001b[0m\u001b[0;34m,\u001b[0m \u001b[0mmin_df\u001b[0m\u001b[0;34m=\u001b[0m \u001b[0;36m3\u001b[0m\u001b[0;34m,\u001b[0m \u001b[0msmooth_idf\u001b[0m\u001b[0;34m=\u001b[0m\u001b[0;36m1\u001b[0m\u001b[0;34m,\u001b[0m \u001b[0msublinear_tf\u001b[0m\u001b[0;34m=\u001b[0m\u001b[0;36m1\u001b[0m\u001b[0;34m)\u001b[0m\u001b[0;34m\u001b[0m\u001b[0m\n\u001b[1;32m      6\u001b[0m \u001b[0mtest_seg_num\u001b[0m \u001b[0;34m=\u001b[0m \u001b[0mvect\u001b[0m\u001b[0;34m.\u001b[0m\u001b[0mfit_transform\u001b[0m\u001b[0;34m(\u001b[0m\u001b[0mtest\u001b[0m\u001b[0;34m)\u001b[0m\u001b[0;34m\u001b[0m\u001b[0m\n\u001b[0;32m----> 7\u001b[0;31m \u001b[0mwanted\u001b[0m \u001b[0;34m=\u001b[0m \u001b[0mseg_result\u001b[0m\u001b[0;34m.\u001b[0m\u001b[0mbest_estimator_\u001b[0m\u001b[0;34m.\u001b[0m\u001b[0mpredict\u001b[0m\u001b[0;34m(\u001b[0m\u001b[0mtest_seg_num\u001b[0m\u001b[0;34m)\u001b[0m\u001b[0;34m\u001b[0m\u001b[0m\n\u001b[0m\u001b[1;32m      8\u001b[0m \u001b[0;34m\u001b[0m\u001b[0m\n\u001b[1;32m      9\u001b[0m \u001b[0mdf_wanted\u001b[0m \u001b[0;34m=\u001b[0m \u001b[0mpd\u001b[0m\u001b[0;34m.\u001b[0m\u001b[0mDataFrame\u001b[0m\u001b[0;34m(\u001b[0m\u001b[0mwanted\u001b[0m\u001b[0;34m,\u001b[0m \u001b[0mcolumns\u001b[0m\u001b[0;34m=\u001b[0m\u001b[0;34m[\u001b[0m\u001b[0;34m'class'\u001b[0m\u001b[0;34m]\u001b[0m\u001b[0;34m)\u001b[0m\u001b[0;34m\u001b[0m\u001b[0m\n",
      "\u001b[0;32m~/miniconda3/lib/python3.6/site-packages/sklearn/linear_model/base.py\u001b[0m in \u001b[0;36mpredict\u001b[0;34m(self, X)\u001b[0m\n\u001b[1;32m    322\u001b[0m             \u001b[0mPredicted\u001b[0m \u001b[0;32mclass\u001b[0m \u001b[0mlabel\u001b[0m \u001b[0mper\u001b[0m \u001b[0msample\u001b[0m\u001b[0;34m.\u001b[0m\u001b[0;34m\u001b[0m\u001b[0m\n\u001b[1;32m    323\u001b[0m         \"\"\"\n\u001b[0;32m--> 324\u001b[0;31m         \u001b[0mscores\u001b[0m \u001b[0;34m=\u001b[0m \u001b[0mself\u001b[0m\u001b[0;34m.\u001b[0m\u001b[0mdecision_function\u001b[0m\u001b[0;34m(\u001b[0m\u001b[0mX\u001b[0m\u001b[0;34m)\u001b[0m\u001b[0;34m\u001b[0m\u001b[0m\n\u001b[0m\u001b[1;32m    325\u001b[0m         \u001b[0;32mif\u001b[0m \u001b[0mlen\u001b[0m\u001b[0;34m(\u001b[0m\u001b[0mscores\u001b[0m\u001b[0;34m.\u001b[0m\u001b[0mshape\u001b[0m\u001b[0;34m)\u001b[0m \u001b[0;34m==\u001b[0m \u001b[0;36m1\u001b[0m\u001b[0;34m:\u001b[0m\u001b[0;34m\u001b[0m\u001b[0m\n\u001b[1;32m    326\u001b[0m             \u001b[0mindices\u001b[0m \u001b[0;34m=\u001b[0m \u001b[0;34m(\u001b[0m\u001b[0mscores\u001b[0m \u001b[0;34m>\u001b[0m \u001b[0;36m0\u001b[0m\u001b[0;34m)\u001b[0m\u001b[0;34m.\u001b[0m\u001b[0mastype\u001b[0m\u001b[0;34m(\u001b[0m\u001b[0mnp\u001b[0m\u001b[0;34m.\u001b[0m\u001b[0mint\u001b[0m\u001b[0;34m)\u001b[0m\u001b[0;34m\u001b[0m\u001b[0m\n",
      "\u001b[0;32m~/miniconda3/lib/python3.6/site-packages/sklearn/linear_model/base.py\u001b[0m in \u001b[0;36mdecision_function\u001b[0;34m(self, X)\u001b[0m\n\u001b[1;32m    303\u001b[0m         \u001b[0;32mif\u001b[0m \u001b[0mX\u001b[0m\u001b[0;34m.\u001b[0m\u001b[0mshape\u001b[0m\u001b[0;34m[\u001b[0m\u001b[0;36m1\u001b[0m\u001b[0;34m]\u001b[0m \u001b[0;34m!=\u001b[0m \u001b[0mn_features\u001b[0m\u001b[0;34m:\u001b[0m\u001b[0;34m\u001b[0m\u001b[0m\n\u001b[1;32m    304\u001b[0m             raise ValueError(\"X has %d features per sample; expecting %d\"\n\u001b[0;32m--> 305\u001b[0;31m                              % (X.shape[1], n_features))\n\u001b[0m\u001b[1;32m    306\u001b[0m \u001b[0;34m\u001b[0m\u001b[0m\n\u001b[1;32m    307\u001b[0m         scores = safe_sparse_dot(X, self.coef_.T,\n",
      "\u001b[0;31mValueError\u001b[0m: X has 2831896 features per sample; expecting 2820641"
     ]
    }
   ],
   "source": [
    "import pandas as pd\n",
    "from sklearn.feature_extraction.text import TfidfVectorizer\n",
    "data_path = \"./data/test_set.csv\"\n",
    "test = pd.read_csv(data_path)['word_seg']\n",
    "vect = TfidfVectorizer(ngram_range=(1,2), max_df=0.9, min_df= 3, smooth_idf=1, sublinear_tf=1)\n",
    "test_seg_num = vect.fit_transform(test)\n",
    "wanted = seg_result.best_estimator_.predict(test_seg_num)\n",
    "\n",
    "df_wanted = pd.DataFrame(wanted, columns=['class'])\n",
    "df_wanted['id'] = range(len(wanted))\n",
    "df_wanted[['id','class']].to_csv('./best_seg_svm.csv', index=False)"
   ]
  },
  {
   "cell_type": "code",
   "execution_count": null,
   "metadata": {},
   "outputs": [],
   "source": []
  }
 ],
 "metadata": {
  "kernelspec": {
   "display_name": "Python 3",
   "language": "python",
   "name": "python3"
  },
  "language_info": {
   "codemirror_mode": {
    "name": "ipython",
    "version": 3
   },
   "file_extension": ".py",
   "mimetype": "text/x-python",
   "name": "python",
   "nbconvert_exporter": "python",
   "pygments_lexer": "ipython3",
   "version": "3.6.5"
  }
 },
 "nbformat": 4,
 "nbformat_minor": 2
}

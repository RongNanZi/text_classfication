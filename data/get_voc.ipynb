{
 "cells": [
  {
   "cell_type": "code",
   "execution_count": 1,
   "metadata": {},
   "outputs": [],
   "source": [
    "import pandas as pd\n",
    "from sklearn.feature_extraction.text import TfidfVectorizer\n",
    "import pickle as p\n",
    "data_path = \"./\"\n",
    "\n",
    "train_data = pd.read_csv(data_path+'train_set.csv',\n",
    "                         usecols=['article','word_seg'])\n",
    "test_data = pd.read_csv(data_path+'test_set.csv',\n",
    "                        usecols=['article', 'word_seg'])\n",
    "data = pd.concat([train_data, test_data], axis=0)\n",
    "word_vect = TfidfVectorizer(max_df=0.9, min_df= 2,\n",
    "                            smooth_idf=1, sublinear_tf=1)\n",
    "word_vect.fit(data['article'])\n",
    "def save(data, f_name):\n",
    "    with open(data_path+f_name, 'wb') as f:\n",
    "        p.dump(data, f)\n",
    "        \n",
    "        \n",
    "save(word_vect.vocabulary_, 'word.voc')"
   ]
  },
  {
   "cell_type": "code",
   "execution_count": null,
   "metadata": {},
   "outputs": [],
   "source": [
    "\n",
    "token_vect = TfidfVectorizer(max_df=0.9, min_df= 5, smooth_idf=1,\n",
    "                             sublinear_tf=1)\n",
    "token_vect.fit(data['word_seg'])\n",
    "save(word_vect.vocabulary_, 'token.voc')"
   ]
  }
 ],
 "metadata": {
  "kernelspec": {
   "display_name": "Python 3",
   "language": "python",
   "name": "python3"
  },
  "language_info": {
   "codemirror_mode": {
    "name": "ipython",
    "version": 3
   },
   "file_extension": ".py",
   "mimetype": "text/x-python",
   "name": "python",
   "nbconvert_exporter": "python",
   "pygments_lexer": "ipython3",
   "version": "3.6.5"
  }
 },
 "nbformat": 4,
 "nbformat_minor": 2
}

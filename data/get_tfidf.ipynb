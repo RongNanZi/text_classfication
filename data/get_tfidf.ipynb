{
 "cells": [
  {
   "cell_type": "code",
   "execution_count": 9,
   "metadata": {},
   "outputs": [],
   "source": [
    "import pandas as pd\n",
    "from sklearn.feature_extraction.text import TfidfVectorizer\n",
    "import pickle as p\n",
    "data_path = \"./\"\n",
    "\n",
    "train_data = pd.read_csv(data_path+'train_set.csv',\n",
    "                         usecols=['article','word_seg'])\n",
    "test_data = pd.read_csv(data_path+'test_set.csv',\n",
    "                        usecols=['article', 'word_seg'])\n",
    "data = pd.concat([train_data, test_data], axis=0)\n",
    "\n",
    "word_vect = TfidfVectorizer(ngram_range=(1,2), max_df=0.9, min_df= 5,\n",
    "                            smooth_idf=1, sublinear_tf=1)\n",
    "word_vect.fit(data['article'])\n",
    "word_train_num = word_vect.transform(train_data['article'])\n",
    "word_test_num = word_vect.transform(test_data['article'])\n",
    "\n",
    "token_vect = TfidfVectorizer(max_df=0.9, min_df= 5, smooth_idf=1,\n",
    "                             sublinear_tf=1)\n",
    "token_vect.fit(data['word_seg'])\n",
    "token_train_num = token_vect.transform(train_data['word_seg'])\n",
    "token_test_num = token_vect.transform(test_data['word_seg'])\n",
    "\n",
    "def save(data, f_name):\n",
    "    with open(data_path+f_name, 'wb') as f:\n",
    "        p.dump(data, f)\n",
    "save(word_train_num, 'word_train.tfidf')\n",
    "save(word_test_num, 'word_test.tfidf')\n",
    "save(token_train_num, 'token_train.tfidf')\n",
    "save(token_test_num, 'token_test.tfidf')"
   ]
  },
  {
   "cell_type": "code",
   "execution_count": 47,
   "metadata": {},
   "outputs": [],
   "source": [
    "save(token_vect.vocabulary_, 'word.voc')"
   ]
  },
  {
   "cell_type": "code",
   "execution_count": 26,
   "metadata": {},
   "outputs": [],
   "source": [
    "data = pd.DataFrame(data= ['this is a test', 'this is a ex'])"
   ]
  },
  {
   "cell_type": "code",
   "execution_count": 30,
   "metadata": {},
   "outputs": [
    {
     "data": {
      "text/html": [
       "<div>\n",
       "<style scoped>\n",
       "    .dataframe tbody tr th:only-of-type {\n",
       "        vertical-align: middle;\n",
       "    }\n",
       "\n",
       "    .dataframe tbody tr th {\n",
       "        vertical-align: top;\n",
       "    }\n",
       "\n",
       "    .dataframe thead th {\n",
       "        text-align: right;\n",
       "    }\n",
       "</style>\n",
       "<table border=\"1\" class=\"dataframe\">\n",
       "  <thead>\n",
       "    <tr style=\"text-align: right;\">\n",
       "      <th></th>\n",
       "      <th>0</th>\n",
       "      <th>text</th>\n",
       "    </tr>\n",
       "  </thead>\n",
       "  <tbody>\n",
       "    <tr>\n",
       "      <th>0</th>\n",
       "      <td>this is a test</td>\n",
       "      <td>this is a test</td>\n",
       "    </tr>\n",
       "    <tr>\n",
       "      <th>1</th>\n",
       "      <td>this is a ex</td>\n",
       "      <td>this is a ex</td>\n",
       "    </tr>\n",
       "  </tbody>\n",
       "</table>\n",
       "</div>"
      ],
      "text/plain": [
       "                0            text\n",
       "0  this is a test  this is a test\n",
       "1    this is a ex    this is a ex"
      ]
     },
     "execution_count": 30,
     "metadata": {},
     "output_type": "execute_result"
    }
   ],
   "source": [
    "data"
   ]
  },
  {
   "cell_type": "code",
   "execution_count": 44,
   "metadata": {},
   "outputs": [],
   "source": [
    "vec = TfidfVectorizer(ngram_range=(1,2),\n",
    "                            smooth_idf=1)"
   ]
  },
  {
   "cell_type": "code",
   "execution_count": 45,
   "metadata": {},
   "outputs": [
    {
     "name": "stdout",
     "output_type": "stream",
     "text": [
      "  (0, 5)\t0.3793034928087496\n",
      "  (0, 1)\t0.3793034928087496\n",
      "  (0, 4)\t0.5330978245262535\n",
      "  (0, 6)\t0.3793034928087496\n",
      "  (0, 3)\t0.5330978245262535\n",
      "  (1, 5)\t0.3793034928087496\n",
      "  (1, 1)\t0.3793034928087496\n",
      "  (1, 6)\t0.3793034928087496\n",
      "  (1, 0)\t0.5330978245262535\n",
      "  (1, 2)\t0.5330978245262535\n"
     ]
    }
   ],
   "source": [
    "print(vec.fit_transform(data['text']))"
   ]
  },
  {
   "cell_type": "code",
   "execution_count": 46,
   "metadata": {},
   "outputs": [
    {
     "data": {
      "text/plain": [
       "{'this': 5,\n",
       " 'is': 1,\n",
       " 'test': 4,\n",
       " 'this is': 6,\n",
       " 'is test': 3,\n",
       " 'ex': 0,\n",
       " 'is ex': 2}"
      ]
     },
     "execution_count": 46,
     "metadata": {},
     "output_type": "execute_result"
    }
   ],
   "source": [
    "vec.vocabulary_"
   ]
  },
  {
   "cell_type": "code",
   "execution_count": null,
   "metadata": {},
   "outputs": [],
   "source": []
  }
 ],
 "metadata": {
  "kernelspec": {
   "display_name": "Python 3",
   "language": "python",
   "name": "python3"
  },
  "language_info": {
   "codemirror_mode": {
    "name": "ipython",
    "version": 3
   },
   "file_extension": ".py",
   "mimetype": "text/x-python",
   "name": "python",
   "nbconvert_exporter": "python",
   "pygments_lexer": "ipython3",
   "version": "3.6.5"
  }
 },
 "nbformat": 4,
 "nbformat_minor": 2
}

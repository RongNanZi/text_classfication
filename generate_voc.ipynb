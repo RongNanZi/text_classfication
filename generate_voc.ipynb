{
 "cells": [
  {
   "cell_type": "code",
   "execution_count": 4,
   "metadata": {},
   "outputs": [],
   "source": [
    "import pandas as pd\n",
    "import numpy as np\n",
    "csv = pd.read_csv('D:/home/acgotaku/Downloads/new_data/train_set.csv')"
   ]
  },
  {
   "cell_type": "code",
   "execution_count": 8,
   "metadata": {},
   "outputs": [
    {
     "name": "stdout",
     "output_type": "stream",
     "text": [
      "the size of voc_token is 875129\n",
      "the size of voc_token is 13516\n"
     ]
    }
   ],
   "source": [
    "from collections import Counter\n",
    "\n",
    "def get_all_token(df, columns):\n",
    "    all_token = []\n",
    "    for item in df[columns]:\n",
    "        for token in item.split():\n",
    "            all_token.append(token)\n",
    "    #all_token = list(all_token)\n",
    "    all_token = Counter(all_token)\n",
    "    print(\"the size of voc_token is {}\".format(len(all_token)))\n",
    "    return all_token\n",
    "all_token = get_all_token(csv, \"word_seg\")\n",
    "all_word = get_all_token(csv, \"article\")"
   ]
  },
  {
   "cell_type": "code",
   "execution_count": 21,
   "metadata": {},
   "outputs": [
    {
     "name": "stdout",
     "output_type": "stream",
     "text": [
      "the voc file is save\n",
      "the voc file is save\n"
     ]
    }
   ],
   "source": [
    "import pickle\n",
    "def get_voc(size, all_token, f_name):\n",
    "    wanted_voc = {'unk':0}\n",
    "    \n",
    "    wanted_voc.update(zip(dict(all_token.most_common(size)).keys(), range(1,size+1)))\n",
    "    with open('./'+f_name, 'wb')as f: \n",
    "        pickle.dump(wanted_voc, f)\n",
    "        print('the voc file is save')\n",
    "\n",
    "get_voc(40000, all_token, 'token.voc')\n",
    "get_voc(len(all_word),all_word, 'word.voc')\n"
   ]
  },
  {
   "cell_type": "code",
   "execution_count": 23,
   "metadata": {},
   "outputs": [
    {
     "name": "stdout",
     "output_type": "stream",
     "text": [
      "the voc file is save\n"
     ]
    }
   ],
   "source": [
    "\n",
    "with open('./word.all', 'wb')as f: \n",
    "        pickle.dump(all_word, f)\n",
    "        print('the voc file is save')"
   ]
  },
  {
   "cell_type": "code",
   "execution_count": 33,
   "metadata": {},
   "outputs": [
    {
     "name": "stdout",
     "output_type": "stream",
     "text": [
      "the voc's  size is 778737\n",
      " the most common info is [('520477', 4232261), ('816903', 3266494), ('1033823', 2687783), ('995362', 1622669), ('920327', 823723), ('834740', 576500), ('460600', 535708), ('54111', 518233), ('1226448', 430444), ('1025743', 337747)]\n",
      " the voc-index'size is 40001\n"
     ]
    }
   ],
   "source": [
    "print(\"the voc's  size is {}\\n the most common info is {}\\n \\\n",
    "the voc-index'size is {}\".format(len(voc_info), voc_info.most_common(10),len(voc_index)))"
   ]
  },
  {
   "cell_type": "code",
   "execution_count": null,
   "metadata": {},
   "outputs": [],
   "source": []
  },
  {
   "cell_type": "code",
   "execution_count": null,
   "metadata": {},
   "outputs": [],
   "source": []
  }
 ],
 "metadata": {
  "kernelspec": {
   "display_name": "Python 3",
   "language": "python",
   "name": "python3"
  },
  "language_info": {
   "codemirror_mode": {
    "name": "ipython",
    "version": 3
   },
   "file_extension": ".py",
   "mimetype": "text/x-python",
   "name": "python",
   "nbconvert_exporter": "python",
   "pygments_lexer": "ipython3",
   "version": "3.6.5"
  }
 },
 "nbformat": 4,
 "nbformat_minor": 2
}

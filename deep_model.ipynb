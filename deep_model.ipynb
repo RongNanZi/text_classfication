{
 "cells": [
  {
   "cell_type": "code",
   "execution_count": null,
   "metadata": {},
   "outputs": [],
   "source": [
    "import pandas as pd\n",
    "import pickle as p\n",
    "import os\n",
    "data_path = './data/'\n",
    "log_path = './log/'\n",
    "if not os.path.exists(log_path):\n",
    "    os.mkdir(log_path)\n",
    "csv = pd.read_csv(data_path+'train_set.csv')"
   ]
  },
  {
   "cell_type": "code",
   "execution_count": 6,
   "metadata": {},
   "outputs": [],
   "source": [
    "from keras.models import Sequential\n",
    "from keras.layers import Embedding, Conv1D, Dense, Dropout, Activation\n",
    "from keras.layers.recurrent import LSTM\n",
    "\n",
    "def get_simple_cnn(vocab_size, embedding_size):\n",
    "    model = Sequential()\n",
    "    model.add(Embedding(\n",
    "            input_dim=vocab_size,\n",
    "            output_dim=embedding_size,\n",
    "        embeddings_initializer='random_normal',\n",
    "            trainable=True\n",
    "        ))\n",
    "    model.add(Conv1D(activation=\"tanh\",\n",
    "                         filters=64,\n",
    "                     kernel_size=1,\n",
    "                     padding=\"valid\"))\n",
    "    model.add(Conv1D(activation=\"tanh\",\n",
    "                         filters=128,\n",
    "                     kernel_size=2,\n",
    "                     padding=\"valid\"))\n",
    "    model.add(Conv1D(activation=\"tanh\",\n",
    "                         filters=256,\n",
    "                     kernel_size=3,\n",
    "                     padding=\"valid\"))\n",
    "    model.add(Conv1D(activation=\"tanh\",\n",
    "                         filters=512,\n",
    "                     kernel_size=3,\n",
    "                     padding=\"valid\"))\n",
    "    model.add(Dense(2048, activation='sigmoid'))\n",
    "    model.add(Dense(512,  activation='sigmoid'))\n",
    "    model.add(Dropout(0.5))\n",
    "    model.add(Dense(19))\n",
    "    model.add(Activation('softmax'))\n",
    "    model.compile(loss='categorical_crossentropy', optimizer='adam', metrics=['accuracy'])\n",
    "    return model\n",
    "m = get_simple_cnn(70000, 256)"
   ]
  },
  {
   "cell_type": "code",
   "execution_count": 9,
   "metadata": {},
   "outputs": [
    {
     "data": {
      "text/plain": [
       "[<keras.layers.embeddings.Embedding at 0x7f3857ae8a90>,\n",
       " <keras.layers.convolutional.Conv1D at 0x7f3857ae8dd8>,\n",
       " <keras.layers.convolutional.Conv1D at 0x7f3857ae8c88>,\n",
       " <keras.layers.convolutional.Conv1D at 0x7f3857ae8c18>,\n",
       " <keras.layers.convolutional.Conv1D at 0x7f3857aac550>,\n",
       " <keras.layers.core.Dense at 0x7f3857a5b518>,\n",
       " <keras.layers.core.Dense at 0x7f3857a0c780>,\n",
       " <keras.layers.core.Dropout at 0x7f38579e8a20>,\n",
       " <keras.layers.core.Dense at 0x7f38579fcdd8>,\n",
       " <keras.layers.core.Activation at 0x7f3857993fd0>]"
      ]
     },
     "execution_count": 9,
     "metadata": {},
     "output_type": "execute_result"
    }
   ],
   "source": [
    "m.layers"
   ]
  },
  {
   "cell_type": "code",
   "execution_count": 12,
   "metadata": {},
   "outputs": [],
   "source": [
    "def get_RNN(vocab_size, embedding_size):\n",
    "    model = Sequential()\n",
    "    model.add(Embedding(\n",
    "            input_dim=vocab_size,\n",
    "            output_dim=embedding_size,\n",
    "        embeddings_initializer='random_normal',\n",
    "            trainable=True\n",
    "        ))\n",
    "    model.add(LSTM(256,return_sequences=True))\n",
    "    model.add(LSTM(256,dropout=0.5,return_sequences=False))\n",
    "    model.add(Dense(19))\n",
    "    model.add(Activation('softmax'))\n",
    "    model.compile(loss='categorical_crossentropy', optimizer='adam', metrics=['accuracy'])\n",
    "    return model\n",
    "m = get_RNN(70000, 256)"
   ]
  },
  {
   "cell_type": "code",
   "execution_count": 15,
   "metadata": {},
   "outputs": [],
   "source": [
    "from keras.engine import Input\n",
    "from keras import backend as K\n",
    "def mix_cnn_rnn(vocab_size, embedding_size):\n",
    "    input_text = Input(shape=(text_length,), dtype='int32')\n",
    "    embedding_vec = Embedding(\n",
    "            input_dim=vocab_size,\n",
    "            output_dim=embedding_size,\n",
    "        embeddings_initializer='random_normal',\n",
    "            trainable=True\n",
    "        )(input_text)\n",
    "    cnn_config=[{'kernel_size':1,'filters':64,  padding:'same'},\n",
    "                {'kernel_size':2,'filters':128,  padding:'same'},\n",
    "                {'kernel_size':3,'filters':512,  padding:'same'},\n",
    "                {'kernel_size':2,'filters':128,  padding:'same'}]\n",
    "    data_aug = []\n",
    "    for i, c_conf in enumerate(cnn_config):\n",
    "        if i == 0:\n",
    "            data_aug.append(Conv1D(c_conf, name='aug_{}st'.format(i+1))(embedding_vec))\n",
    "            continue\n",
    "        data_aug.append(Conv1D(c_conf, name='aug_{}st'.format(i+1))(data_aug[i-1]))\n",
    "    concat_data = concatenate(data_aug)\n",
    "    rnn_result = LSTM(256,return_sequences=True)(concat_data)\n",
    "    rnn_result = LSTM(256,dropout=0.5,return_sequences=False)(rnn_result)\n",
    "    logist = Dense(19, activation='softmax')\n",
    "    model = Model(input=input_text, output=logist)\n",
    "    model.compile(loss='categorical_crossentropy', optimizer='adam', metrics=['accuracy'])\n",
    "    return model\n",
    "m = get_RNN(70000, 256)"
   ]
  },
  {
   "cell_type": "code",
   "execution_count": 16,
   "metadata": {},
   "outputs": [
    {
     "data": {
      "text/plain": [
       "[<keras.layers.embeddings.Embedding at 0x7f381cd2b358>,\n",
       " <keras.layers.recurrent.LSTM at 0x7f381cd2b978>,\n",
       " <keras.layers.recurrent.LSTM at 0x7f381cd2bf28>,\n",
       " <keras.layers.core.Dense at 0x7f381cbd4f60>,\n",
       " <keras.layers.core.Activation at 0x7f381c8bd358>]"
      ]
     },
     "execution_count": 16,
     "metadata": {},
     "output_type": "execute_result"
    }
   ],
   "source": []
  },
  {
   "cell_type": "code",
   "execution_count": null,
   "metadata": {},
   "outputs": [],
   "source": []
  }
 ],
 "metadata": {
  "kernelspec": {
   "display_name": "Python 3",
   "language": "python",
   "name": "python3"
  },
  "language_info": {
   "codemirror_mode": {
    "name": "ipython",
    "version": 3
   },
   "file_extension": ".py",
   "mimetype": "text/x-python",
   "name": "python",
   "nbconvert_exporter": "python",
   "pygments_lexer": "ipython3",
   "version": "3.6.5"
  }
 },
 "nbformat": 4,
 "nbformat_minor": 2
}
